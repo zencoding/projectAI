{
 "metadata": {
  "name": ""
 },
 "nbformat": 3,
 "nbformat_minor": 0,
 "worksheets": [
  {
   "cells": [
    {
     "cell_type": "markdown",
     "metadata": {},
     "source": [
      "###Project AI - auto-encoding variational Bayes\n",
      "\n",
      "* Otto Fabius - 5619858\n",
      "* Joost van Amersfoort - 10021248"
     ]
    },
    {
     "cell_type": "code",
     "collapsed": false,
     "input": [
      "%pylab inline\n",
      "import gzip, cPickle\n",
      "\n",
      "import theano as th\n",
      "import theano.tensor as T\n",
      "\n",
      "import scipy.stats as sp\n",
      "\n",
      "th.config.exception_verbosity = 'high'"
     ],
     "language": "python",
     "metadata": {},
     "outputs": [
      {
       "output_type": "stream",
       "stream": "stdout",
       "text": [
        "Populating the interactive namespace from numpy and matplotlib\n"
       ]
      },
      {
       "output_type": "stream",
       "stream": "stderr",
       "text": [
        "WARNING: pylab import has clobbered these variables: ['plot']\n",
        "`%pylab --no-import-all` prevents importing * from pylab and numpy\n"
       ]
      }
     ],
     "prompt_number": 113
    },
    {
     "cell_type": "code",
     "collapsed": false,
     "input": [
      "def load_mnist():\n",
      "\tf = gzip.open('mnist.pkl.gz', 'rb')\n",
      "\tdata = cPickle.load(f)\n",
      "\tf.close()\n",
      "\treturn data\n",
      "\n",
      "(x_train, t_train), (x_valid, t_valid), (x_test, t_test) = load_mnist()"
     ],
     "language": "python",
     "metadata": {},
     "outputs": [],
     "prompt_number": 114
    },
    {
     "cell_type": "code",
     "collapsed": false,
     "input": [
      "def initialize(HU_Decoder, HU_Encoder, dimX, dimZ):\n",
      "    \n",
      "    sigmaInit = 0.01\n",
      "    #initialize theta for decoder\n",
      "    W1 = np.random.normal(0,sigmaInit,(HU_Decoder,dimZ))\n",
      "    b1 = np.random.normal(0,sigmaInit,(HU_Decoder,1))\n",
      "    \n",
      "    W2 = np.random.normal(0,sigmaInit,(dimX,HU_Decoder))\n",
      "    b2 = np.random.normal(0,sigmaInit,(dimX,1))\n",
      "    \n",
      "    #initialize phi for encoder \n",
      "    W3 = np.random.normal(0,sigmaInit,(HU_Encoder,dimX))\n",
      "    b3 = np.random.normal(0,sigmaInit,(HU_Encoder,1))\n",
      "    \n",
      "    W4 = np.random.normal(0,sigmaInit,(dimZ,HU_Encoder))\n",
      "    b4 = np.random.normal(0,sigmaInit,(dimZ,1))\n",
      "    \n",
      "    W5 = np.random.normal(0,sigmaInit,(dimZ,HU_Encoder))\n",
      "    b5 = np.random.normal(0,sigmaInit,(dimZ,1))\n",
      "        \n",
      "    #Create one list with parameters\n",
      "    params = [W1,W2,W3,W4,W5,b1,b2,b3,b4,b5]\n",
      "    \n",
      "    return params"
     ],
     "language": "python",
     "metadata": {},
     "outputs": [],
     "prompt_number": 115
    },
    {
     "cell_type": "code",
     "collapsed": false,
     "input": [
      "def initGrad(dimZ):\n",
      "    #Create the Theano variables\n",
      "    W1,W2,W3,W4,W5,x,eta = T.dmatrices(\"W1\",\"W2\",\"W3\",\"W4\",\"W5\",\"x\",\"eta\") \n",
      "                                                      \n",
      "    b1,b2,b3,b4,b5 = T.dcols(\"b1\",\"b2\",\"b3\",\"b4\",\"b5\")\n",
      "        \n",
      "    #Set up the equations for encoding\n",
      "    h = T.tanh(T.dot(W3,x) + b3)\n",
      "    mu = T.dot(W4,h) + b4  \n",
      "    sigma = T.sqrt(T.exp(T.dot(W5,h) + b5))\n",
      "    \n",
      "    #Find the hidden variable z\n",
      "    z = mu + sigma*eta\n",
      "\n",
      "    #Set up the equation for decoding\n",
      "    y = 1 / (1 + T.exp(-(T.dot(W2,T.tanh(T.dot(W1,z) + b1)) + b2)))\n",
      "    \n",
      "    #Set up the final equation that we use to compute the gradients\n",
      "    #Durk\n",
      "    logp = T.sum(T.sum(x*T.log(y) - (1-x)*T.log(1 - y)))\n",
      "            \n",
      "    #Compute all the gradientsk\n",
      "    derivatives = T.grad(logp,[W1,W2,W3,W4,W5,b1,b2,b3,b4,b5])\n",
      "    \n",
      "    #Create functions with these gradients\n",
      "    functions = []\n",
      "    for derivative in derivatives:\n",
      "        functions.append(th.function([W1,W2,W3,W4,W5,b1,b2,b3,b4,b5,x,eta], derivative, on_unused_input='ignore'))\n",
      "        \n",
      "    return functions"
     ],
     "language": "python",
     "metadata": {},
     "outputs": [],
     "prompt_number": 116
    },
    {
     "cell_type": "code",
     "collapsed": false,
     "input": [
      "def iterate(params, functions, miniBatch, numSamples):\n",
      "    \"\"\"Compute the gradients for one miniBatch and return the updated parameters\"\"\"\n",
      "    totalGradients = [None] * 10\n",
      "    for L in xrange(numSamples):\n",
      "        dimZ = params[9].shape[0]\n",
      "        batchSize = miniBatch.shape[1] \n",
      "    \n",
      "        e = np.random.normal(0,1,[dimZ,batchSize])\n",
      "                \n",
      "        gradients = []            \n",
      "        for f in functions:  \n",
      "            output = f(*(params),x=miniBatch,eta=e)\n",
      "            gradients.append(output)\n",
      "        \n",
      "        for i in xrange(len(gradients)):\n",
      "            if totalGradients[i] == None:\n",
      "                totalGradients[i] = gradients[i]\n",
      "            else:\n",
      "                totalGradients[i] += gradients[i]\n",
      "        \n",
      "    return totalGradients"
     ],
     "language": "python",
     "metadata": {},
     "outputs": [],
     "prompt_number": 117
    },
    {
     "cell_type": "code",
     "collapsed": false,
     "input": [
      "def plot(dimZ, params):\n",
      "    z = np.matrix([sp.invgauss.cdf(0.1,1),sp.invgauss.cdf(0.1,1)]).T\n",
      "     \n",
      "    W1 = params[0]    \n",
      "    W2 = params[1]\n",
      "    \n",
      "    b1 = params[5]\n",
      "    b2 = params[6]\n",
      "    \n",
      "    y = 1 / (1 + np.exp(-(W2.dot(np.tanh(W1.dot(z) + b1)) + b2)))\n",
      "        \n",
      "    plt.imshow(y.reshape((28,28)), interpolation='nearest', cmap='Greys')\n",
      "    plt.show()\n",
      "    "
     ],
     "language": "python",
     "metadata": {},
     "outputs": [],
     "prompt_number": 118
    },
    {
     "cell_type": "code",
     "collapsed": false,
     "input": [
      "def sga():\n",
      "    HU_Decoder = 100\n",
      "    HU_Encoder = 100\n",
      "    sizeBatch = 1\n",
      "    \n",
      "    L = 1\n",
      "    dimZ = 2\n",
      "    \n",
      "    learningrate = 0.00001\n",
      "    \n",
      "    print \"Initializing\"\n",
      "    [N,dimX] = x_train.shape\n",
      "        \n",
      "    params = initialize(HU_Decoder, HU_Encoder, dimX, dimZ)\n",
      "    \n",
      "    print \"Creating Functions\"\n",
      "    functions = initGrad(dimZ)\n",
      "        \n",
      "    print \"Iterating\"\n",
      "    batches = np.linspace(0,20000,41)\n",
      "        \n",
      "    for i in xrange(0,len(batches)-2):\n",
      "        miniBatch = x_train[batches[i]:batches[i+1]]\n",
      "        totalGradients = iterate(params, functions, miniBatch.T, L)\n",
      "        #Update the parameters\n",
      "        for i in xrange(len(params)):  \n",
      "            params[i] = params[i] + learningrate*(N/(sizeBatch*L))*totalGradients[i]\n",
      "    \n",
      "    print \"Plotting\"\n",
      "    plot(dimZ,params)\n",
      "    "
     ],
     "language": "python",
     "metadata": {},
     "outputs": [],
     "prompt_number": 121
    },
    {
     "cell_type": "code",
     "collapsed": true,
     "input": [
      "sga()"
     ],
     "language": "python",
     "metadata": {},
     "outputs": [
      {
       "output_type": "stream",
       "stream": "stdout",
       "text": [
        "Initializing\n",
        "Creating Functions\n",
        "Iterating"
       ]
      },
      {
       "output_type": "stream",
       "stream": "stdout",
       "text": [
        "\n",
        "Plotting"
       ]
      },
      {
       "output_type": "stream",
       "stream": "stdout",
       "text": [
        "\n"
       ]
      },
      {
       "metadata": {},
       "output_type": "display_data",
       "png": "[encoded data removed]",
       "text": [
        "<matplotlib.figure.Figure at 0x1211b1790>"
       ]
      }
     ],
     "prompt_number": 120
    },
    {
     "cell_type": "code",
     "collapsed": false,
     "input": [],
     "language": "python",
     "metadata": {},
     "outputs": [],
     "prompt_number": 120
    }
   ],
   "metadata": {}
  }
 ]
}