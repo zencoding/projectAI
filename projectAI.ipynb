{
 "metadata": {
  "name": ""
 },
 "nbformat": 3,
 "nbformat_minor": 0,
 "worksheets": [
  {
   "cells": [
    {
     "cell_type": "markdown",
     "metadata": {},
     "source": [
      "###Project AI - auto-encoding variational Bayes\n",
      "\n",
      "* Otto Fabius - 5619858\n",
      "* Joost van Amersfoort - 10021248"
     ]
    },
    {
     "cell_type": "code",
     "collapsed": false,
     "input": [
      "%pylab inline\n",
      "import gzip, cPickle\n",
      "\n",
      "import theano as th\n",
      "import theano.tensor as T\n",
      "\n",
      "import scipy.stats as sp"
     ],
     "language": "python",
     "metadata": {},
     "outputs": [
      {
       "output_type": "stream",
       "stream": "stdout",
       "text": [
        "Populating the interactive namespace from numpy and matplotlib\n"
       ]
      },
      {
       "output_type": "stream",
       "stream": "stderr",
       "text": [
        "WARNING: pylab import has clobbered these variables: ['plot']\n",
        "`%pylab --no-import-all` prevents importing * from pylab and numpy\n"
       ]
      }
     ],
     "prompt_number": 531
    },
    {
     "cell_type": "code",
     "collapsed": false,
     "input": [
      "def load_mnist():\n",
      "\tf = gzip.open('mnist.pkl.gz', 'rb')\n",
      "\tdata = cPickle.load(f)\n",
      "\tf.close()\n",
      "\treturn data\n",
      "\n",
      "(x_train, t_train), (x_valid, t_valid), (x_test, t_test) = load_mnist()"
     ],
     "language": "python",
     "metadata": {},
     "outputs": [],
     "prompt_number": 532
    },
    {
     "cell_type": "code",
     "collapsed": false,
     "input": [
      "def initialize(HU_Decoder, HU_Encoder, dimX, dimZ):\n",
      "    \n",
      "    sigmaInit = 0.01\n",
      "    #initialize theta for decoder\n",
      "    W1 = np.random.normal(0,sigmaInit,(HU_Decoder,dimZ))\n",
      "    b1 = np.random.normal(0,sigmaInit,(HU_Decoder,1))\n",
      "    \n",
      "    W2 = np.random.normal(0,sigmaInit,(dimX,HU_Decoder))\n",
      "    b2 = np.random.normal(0,sigmaInit,(dimX,1))\n",
      "    \n",
      "    #initialize phi for encoder \n",
      "    W3 = np.random.normal(0,sigmaInit,(HU_Encoder,dimX))\n",
      "    b3 = np.random.normal(0,sigmaInit,(HU_Encoder,1))\n",
      "    \n",
      "    W4 = np.random.normal(0,sigmaInit,(dimZ,HU_Encoder))\n",
      "    b4 = np.random.normal(0,sigmaInit,(dimZ,1))\n",
      "    \n",
      "    W5 = np.random.normal(0,sigmaInit,(dimZ,HU_Encoder))\n",
      "    b5 = np.random.normal(0,sigmaInit,(dimZ,1))\n",
      "        \n",
      "    #Create one list with parameters\n",
      "    params = [W1,W2,W3,W4,W5,b1,b2,b3,b4,b5]\n",
      "    \n",
      "    return params"
     ],
     "language": "python",
     "metadata": {},
     "outputs": [],
     "prompt_number": 533
    },
    {
     "cell_type": "code",
     "collapsed": false,
     "input": [
      "def initGrad(dimZ):\n",
      "    #Create the Theano variables\n",
      "    W1,W2,W3,W4,W5,b1,b2,b3,b4,b5,x,eta = T.dmatrices(\"W1\",\"W2\",\"W3\",\"W4\",\"W5\",\"b1\",\"b2\",\"b3\",\"b4\",\"b5\",\"x\",\"eta\") \n",
      "    \n",
      "    #Set up the equations for encoding\n",
      "    h = T.tanh(T.dot(W3,x) + b3)\n",
      "    mu = T.dot(W4,h) + b4  \n",
      "    sigma = T.sqrt(T.exp(T.dot(W5,h) + b5))\n",
      "    \n",
      "    #Find the hidden variable z\n",
      "    z = mu + sigma*eta\n",
      "\n",
      "    #Set up the equation for decoding\n",
      "    y = 1 / (1 + T.exp(T.dot(W2,T.tanh(T.dot(W1,z) + b1)) + b2))\n",
      "    \n",
      "    #Set up the final equation that we use to compute the gradients\n",
      "    logp = T.sum(x*T.log(y) - (1-x)*T.log(1 - y))\n",
      "            \n",
      "    #Compute all the gradients\n",
      "    derivatives = T.grad(logp,[W1,W2,W3,W4,W5,b1,b2,b3,b4,b5])\n",
      "    \n",
      "    #Create functions with these gradients\n",
      "    functions = []\n",
      "    for derivative in derivatives:\n",
      "        functions.append(th.function([W1,W2,W3,W4,W5,b1,b2,b3,b4,b5,x,eta], derivative, on_unused_input='ignore'))\n",
      "        \n",
      "    return functions"
     ],
     "language": "python",
     "metadata": {},
     "outputs": [],
     "prompt_number": 534
    },
    {
     "cell_type": "code",
     "collapsed": false,
     "input": [
      "def iterate(params, functions, miniBatch, numSamples):\n",
      "    \"\"\"Compute the gradients for one miniBatch and return the updated parameters\"\"\"\n",
      "    totalGradients = [None] * 10\n",
      "    for L in xrange(numSamples):\n",
      "        dimZ = params[9].shape[0]\n",
      "        batchSize = miniBatch.shape[1] \n",
      "    \n",
      "        e = np.random.normal(0,1,[dimZ,batchSize])\n",
      "        \n",
      "        gradients = []\n",
      "                        \n",
      "        for f in functions:  \n",
      "            output = f(*(params),x=miniBatch,eta=e)\n",
      "            gradients.append(sum(output))\n",
      "        \n",
      "        for i in xrange(len(gradients)):\n",
      "            if totalGradients[i] == None:\n",
      "                totalGradients[i] = gradients[i]\n",
      "            else:\n",
      "                totalGradients[i] += gradients[i]\n",
      "        \n",
      "    return totalGradients"
     ],
     "language": "python",
     "metadata": {},
     "outputs": [],
     "prompt_number": 545
    },
    {
     "cell_type": "code",
     "collapsed": false,
     "input": [
      "def plot(dimZ, params):\n",
      "    z = np.matrix([sp.invgauss.cdf(0.1,1),sp.invgauss.cdf(0.1,1)]).T\n",
      "     \n",
      "    W1 = params[0]    \n",
      "    W2 = params[1]\n",
      "    \n",
      "    b1 = params[5]\n",
      "    b2 = params[6]\n",
      "    \n",
      "    y = 1 / (1 + np.exp(W2.dot(np.tanh(W1.dot(z) + b1)) + b2))\n",
      "        \n",
      "    plt.imshow(y.reshape((28,28)), interpolation='nearest', cmap='Greys')\n",
      "    plt.show()\n",
      "    "
     ],
     "language": "python",
     "metadata": {},
     "outputs": [],
     "prompt_number": 536
    },
    {
     "cell_type": "code",
     "collapsed": false,
     "input": [
      "def sga():\n",
      "    HU_Decoder = 10\n",
      "    HU_Encoder = 10\n",
      "    sizeBatch = 1\n",
      "    \n",
      "    L = 1\n",
      "    dimZ = 2\n",
      "    \n",
      "    learningrate = 0.001\n",
      "    \n",
      "    print \"Initializing\"\n",
      "    [N,dimX] = x_train.shape\n",
      "        \n",
      "    params = initialize(HU_Decoder, HU_Encoder, dimX, dimZ)\n",
      "    \n",
      "    print \"Creating Functions\"\n",
      "    functions = initGrad(dimZ)\n",
      "        \n",
      "    print \"Iterating\"\n",
      "    batches = np.linspace(1,200,200)\n",
      "        \n",
      "    for i in xrange(0,len(batches)-2):\n",
      "        miniBatch = x_train[batches[i]:batches[i+1]]\n",
      "        totalGradients = iterate(params, functions, miniBatch.T, L)\n",
      "        #Update the parameters\n",
      "        for i in xrange(len(params)):  \n",
      "            params[i] = params[i] + learningrate*(N/(sizeBatch*L))*totalGradients[i]\n",
      "    \n",
      "    print \"Plotting\"\n",
      "    plot(dimZ,params)\n",
      "    "
     ],
     "language": "python",
     "metadata": {},
     "outputs": [],
     "prompt_number": 543
    },
    {
     "cell_type": "code",
     "collapsed": true,
     "input": [
      "sga()"
     ],
     "language": "python",
     "metadata": {},
     "outputs": [
      {
       "output_type": "stream",
       "stream": "stdout",
       "text": [
        "Initializing\n",
        "Creating Functions\n",
        "Iterating"
       ]
      },
      {
       "ename": "ValueError",
       "evalue": "Shape mismatch: y has 50 cols but z has 1 cols\nApply node that caused the error: Gemm{no_inplace}(b3, TensorConstant{1.0}, W3, x, TensorConstant{1.0})\nInputs shapes: [(10, 1), (), (10, 784), (784, 50), ()]\nInputs strides: [(8, 8), (), (6272, 8), (8, 6272), ()]\nInputs types: [TensorType(float64, matrix), TensorType(float64, scalar), TensorType(float64, matrix), TensorType(float64, matrix), TensorType(float64, scalar)]\nDebugprint of the apply node: \nGemm{no_inplace} [@A] <TensorType(float64, matrix)> ''   \n |b3 [@B] <TensorType(float64, matrix)>\n |TensorConstant{1.0} [@C] <TensorType(float64, scalar)>\n |W3 [@D] <TensorType(float64, matrix)>\n |x [@E] <TensorType(float64, matrix)>\n |TensorConstant{1.0} [@C] <TensorType(float64, scalar)>\n",
       "output_type": "pyerr",
       "traceback": [
        "\u001b[0;31m---------------------------------------------------------------------------\u001b[0m\n\u001b[0;31mValueError\u001b[0m                                Traceback (most recent call last)",
        "\u001b[0;32m<ipython-input-546-0ca0569a651b>\u001b[0m in \u001b[0;36m<module>\u001b[0;34m()\u001b[0m\n\u001b[0;32m----> 1\u001b[0;31m \u001b[0msga\u001b[0m\u001b[0;34m(\u001b[0m\u001b[0;34m)\u001b[0m\u001b[0;34m\u001b[0m\u001b[0m\n\u001b[0m",
        "\u001b[0;32m<ipython-input-543-eb50d0eb36c2>\u001b[0m in \u001b[0;36msga\u001b[0;34m()\u001b[0m\n\u001b[1;32m     22\u001b[0m     \u001b[0;32mfor\u001b[0m \u001b[0mi\u001b[0m \u001b[0;32min\u001b[0m \u001b[0mxrange\u001b[0m\u001b[0;34m(\u001b[0m\u001b[0;36m0\u001b[0m\u001b[0;34m,\u001b[0m\u001b[0mlen\u001b[0m\u001b[0;34m(\u001b[0m\u001b[0mbatches\u001b[0m\u001b[0;34m)\u001b[0m\u001b[0;34m-\u001b[0m\u001b[0;36m2\u001b[0m\u001b[0;34m)\u001b[0m\u001b[0;34m:\u001b[0m\u001b[0;34m\u001b[0m\u001b[0m\n\u001b[1;32m     23\u001b[0m         \u001b[0mminiBatch\u001b[0m \u001b[0;34m=\u001b[0m \u001b[0mx_train\u001b[0m\u001b[0;34m[\u001b[0m\u001b[0mbatches\u001b[0m\u001b[0;34m[\u001b[0m\u001b[0mi\u001b[0m\u001b[0;34m]\u001b[0m\u001b[0;34m:\u001b[0m\u001b[0mbatches\u001b[0m\u001b[0;34m[\u001b[0m\u001b[0mi\u001b[0m\u001b[0;34m+\u001b[0m\u001b[0;36m1\u001b[0m\u001b[0;34m]\u001b[0m\u001b[0;34m]\u001b[0m\u001b[0;34m\u001b[0m\u001b[0m\n\u001b[0;32m---> 24\u001b[0;31m         \u001b[0mtotalGradients\u001b[0m \u001b[0;34m=\u001b[0m \u001b[0miterate\u001b[0m\u001b[0;34m(\u001b[0m\u001b[0mparams\u001b[0m\u001b[0;34m,\u001b[0m \u001b[0mfunctions\u001b[0m\u001b[0;34m,\u001b[0m \u001b[0mminiBatch\u001b[0m\u001b[0;34m.\u001b[0m\u001b[0mT\u001b[0m\u001b[0;34m,\u001b[0m \u001b[0mL\u001b[0m\u001b[0;34m)\u001b[0m\u001b[0;34m\u001b[0m\u001b[0m\n\u001b[0m\u001b[1;32m     25\u001b[0m         \u001b[0;31m#Update the parameters\u001b[0m\u001b[0;34m\u001b[0m\u001b[0;34m\u001b[0m\u001b[0m\n\u001b[1;32m     26\u001b[0m         \u001b[0;32mfor\u001b[0m \u001b[0mi\u001b[0m \u001b[0;32min\u001b[0m \u001b[0mxrange\u001b[0m\u001b[0;34m(\u001b[0m\u001b[0mlen\u001b[0m\u001b[0;34m(\u001b[0m\u001b[0mparams\u001b[0m\u001b[0;34m)\u001b[0m\u001b[0;34m)\u001b[0m\u001b[0;34m:\u001b[0m\u001b[0;34m\u001b[0m\u001b[0m\n",
        "\u001b[0;32m<ipython-input-545-cea22c4dded2>\u001b[0m in \u001b[0;36miterate\u001b[0;34m(params, functions, miniBatch, numSamples)\u001b[0m\n\u001b[1;32m     11\u001b[0m \u001b[0;34m\u001b[0m\u001b[0m\n\u001b[1;32m     12\u001b[0m         \u001b[0;32mfor\u001b[0m \u001b[0mf\u001b[0m \u001b[0;32min\u001b[0m \u001b[0mfunctions\u001b[0m\u001b[0;34m:\u001b[0m\u001b[0;34m\u001b[0m\u001b[0m\n\u001b[0;32m---> 13\u001b[0;31m             \u001b[0moutput\u001b[0m \u001b[0;34m=\u001b[0m \u001b[0mf\u001b[0m\u001b[0;34m(\u001b[0m\u001b[0;34m*\u001b[0m\u001b[0;34m(\u001b[0m\u001b[0mparams\u001b[0m\u001b[0;34m)\u001b[0m\u001b[0;34m,\u001b[0m\u001b[0mx\u001b[0m\u001b[0;34m=\u001b[0m\u001b[0mminiBatch\u001b[0m\u001b[0;34m,\u001b[0m\u001b[0meta\u001b[0m\u001b[0;34m=\u001b[0m\u001b[0me\u001b[0m\u001b[0;34m)\u001b[0m\u001b[0;34m\u001b[0m\u001b[0m\n\u001b[0m\u001b[1;32m     14\u001b[0m             \u001b[0mgradients\u001b[0m\u001b[0;34m.\u001b[0m\u001b[0mappend\u001b[0m\u001b[0;34m(\u001b[0m\u001b[0msum\u001b[0m\u001b[0;34m(\u001b[0m\u001b[0moutput\u001b[0m\u001b[0;34m)\u001b[0m\u001b[0;34m)\u001b[0m\u001b[0;34m\u001b[0m\u001b[0m\n\u001b[1;32m     15\u001b[0m \u001b[0;34m\u001b[0m\u001b[0m\n",
        "\u001b[0;32m/Users/joost/Library/Enthought/Canopy_64bit/User/lib/python2.7/site-packages/theano/compile/function_module.pyc\u001b[0m in \u001b[0;36m__call__\u001b[0;34m(self, *args, **kwargs)\u001b[0m\n\u001b[1;32m    586\u001b[0m                     \u001b[0;31m# For the CVM\u001b[0m\u001b[0;34m\u001b[0m\u001b[0;34m\u001b[0m\u001b[0m\n\u001b[1;32m    587\u001b[0m                     gof.vm.raise_with_op(self.fn.nodes[self.fn.position_of_error],\n\u001b[0;32m--> 588\u001b[0;31m                                          self.fn.thunks[self.fn.position_of_error])\n\u001b[0m\u001b[1;32m    589\u001b[0m                 \u001b[0;32melse\u001b[0m\u001b[0;34m:\u001b[0m\u001b[0;34m\u001b[0m\u001b[0m\n\u001b[1;32m    590\u001b[0m                     \u001b[0;31m# For the c linker\u001b[0m\u001b[0;34m\u001b[0m\u001b[0;34m\u001b[0m\u001b[0m\n",
        "\u001b[0;32m/Users/joost/Library/Enthought/Canopy_64bit/User/lib/python2.7/site-packages/theano/compile/function_module.pyc\u001b[0m in \u001b[0;36m__call__\u001b[0;34m(self, *args, **kwargs)\u001b[0m\n\u001b[1;32m    577\u001b[0m         \u001b[0mt0_fn\u001b[0m \u001b[0;34m=\u001b[0m \u001b[0mtime\u001b[0m\u001b[0;34m.\u001b[0m\u001b[0mtime\u001b[0m\u001b[0;34m(\u001b[0m\u001b[0;34m)\u001b[0m\u001b[0;34m\u001b[0m\u001b[0m\n\u001b[1;32m    578\u001b[0m         \u001b[0;32mtry\u001b[0m\u001b[0;34m:\u001b[0m\u001b[0;34m\u001b[0m\u001b[0m\n\u001b[0;32m--> 579\u001b[0;31m             \u001b[0moutputs\u001b[0m \u001b[0;34m=\u001b[0m \u001b[0mself\u001b[0m\u001b[0;34m.\u001b[0m\u001b[0mfn\u001b[0m\u001b[0;34m(\u001b[0m\u001b[0;34m)\u001b[0m\u001b[0;34m\u001b[0m\u001b[0m\n\u001b[0m\u001b[1;32m    580\u001b[0m         \u001b[0;32mexcept\u001b[0m \u001b[0mException\u001b[0m\u001b[0;34m:\u001b[0m\u001b[0;34m\u001b[0m\u001b[0m\n\u001b[1;32m    581\u001b[0m             \u001b[0;32mif\u001b[0m \u001b[0mhasattr\u001b[0m\u001b[0;34m(\u001b[0m\u001b[0mself\u001b[0m\u001b[0;34m.\u001b[0m\u001b[0mfn\u001b[0m\u001b[0;34m,\u001b[0m \u001b[0;34m'position_of_error'\u001b[0m\u001b[0;34m)\u001b[0m\u001b[0;34m:\u001b[0m\u001b[0;34m\u001b[0m\u001b[0m\n",
        "\u001b[0;31mValueError\u001b[0m: Shape mismatch: y has 50 cols but z has 1 cols\nApply node that caused the error: Gemm{no_inplace}(b3, TensorConstant{1.0}, W3, x, TensorConstant{1.0})\nInputs shapes: [(10, 1), (), (10, 784), (784, 50), ()]\nInputs strides: [(8, 8), (), (6272, 8), (8, 6272), ()]\nInputs types: [TensorType(float64, matrix), TensorType(float64, scalar), TensorType(float64, matrix), TensorType(float64, matrix), TensorType(float64, scalar)]\nDebugprint of the apply node: \nGemm{no_inplace} [@A] <TensorType(float64, matrix)> ''   \n |b3 [@B] <TensorType(float64, matrix)>\n |TensorConstant{1.0} [@C] <TensorType(float64, scalar)>\n |W3 [@D] <TensorType(float64, matrix)>\n |x [@E] <TensorType(float64, matrix)>\n |TensorConstant{1.0} [@C] <TensorType(float64, scalar)>\n"
       ]
      },
      {
       "output_type": "stream",
       "stream": "stdout",
       "text": [
        "\n"
       ]
      }
     ],
     "prompt_number": 546
    },
    {
     "cell_type": "code",
     "collapsed": false,
     "input": [],
     "language": "python",
     "metadata": {},
     "outputs": [],
     "prompt_number": 538
    }
   ],
   "metadata": {}
  }
 ]
}