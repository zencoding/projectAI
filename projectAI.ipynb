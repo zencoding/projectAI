{
 "metadata": {
  "name": "projectAI"
 },
 "nbformat": 3,
 "nbformat_minor": 0,
 "worksheets": [
  {
   "cells": [
    {
     "cell_type": "markdown",
     "metadata": {},
     "source": [
      "###Project AI - auto-encoding variational Bayes\n",
      "\n",
      "* Otto Fabius - 5619858\n",
      "* Joost van Amersfoort - 10021248"
     ]
    },
    {
     "cell_type": "code",
     "collapsed": false,
     "input": [
      "%pylab inline\n",
      "import gzip, cPickle"
     ],
     "language": "python",
     "metadata": {},
     "outputs": [
      {
       "output_type": "stream",
       "stream": "stdout",
       "text": [
        "\n",
        "Welcome to pylab, a matplotlib-based Python environment [backend: module://IPython.zmq.pylab.backend_inline].\n",
        "For more information, type 'help(pylab)'.\n"
       ]
      }
     ],
     "prompt_number": 7
    },
    {
     "cell_type": "code",
     "collapsed": false,
     "input": [
      "def load_mnist():\n",
      "\tf = gzip.open('mnist.pkl.gz', 'rb')\n",
      "\tdata = cPickle.load(f)\n",
      "\tf.close()\n",
      "\treturn data\n",
      "\n",
      "(x_train, t_train), (x_valid, t_valid), (x_test, t_test) = load_mnist()"
     ],
     "language": "python",
     "metadata": {},
     "outputs": [],
     "prompt_number": 8
    },
    {
     "cell_type": "code",
     "collapsed": true,
     "input": [
      "def plot_digits(data, numcols, shape=(28,28)):\n",
      "    numdigits = data.shape[0]\n",
      "    numrows = int(numdigits/numcols)\n",
      "    for i in range(numdigits):\n",
      "        plt.subplot(numrows, numcols, i)\n",
      "        plt.axis('off')\n",
      "        plt.imshow(data[i].reshape(shape), interpolation='nearest', cmap='Greys')\n",
      "    plt.show()\n",
      "    \n",
      "plot_digits(x_train[0:12], numcols=4)"
     ],
     "language": "python",
     "metadata": {},
     "outputs": [
      {
       "output_type": "display_data",
       "png": "[encoded data removed]"
      }
     ],
     "prompt_number": 9
    },
    {
     "cell_type": "code",
     "collapsed": false,
     "input": [
      "def initialize(HUDecoder = 50, HUEncoder = 50, dimZ = 1):\n",
      "    #get info for shape of neural network\n",
      "    shape = x_train.shape\n",
      "    size = shape[0]\n",
      "    dimX = shape[1]\n",
      "    \n",
      "    #initialize theta for decoder\n",
      "    W1 = 0.05*np.random.randn(dimZ,HUDecoder)\n",
      "    b1 = 0.05*np.random.randn(1,HUDecoder)\n",
      "    W2 = 0.05*np.random.randn(HUDecoder,1)\n",
      "    b2 = 0.05*np.random.randn(1,1)\n",
      "    theta = (W1,b1,W2,b2)\n",
      "    \n",
      "    #initialize phi for encoder\n",
      "    W3 = 0.05*np.random.randn(dimX,HUEncoder)\n",
      "    b3 = 0.05*np.random.randn(1,HUEncoder)\n",
      "    W4 = 0.05*np.random.randn(HUEncoder,1)\n",
      "    b4 = 0.05*np.random.randn(1,1)\n",
      "    W5 = 0.05*np.random.randn(HUEncoder,1)\n",
      "    b5 = 0.05*np.random.randn(1,1)\n",
      "    phi = (W3,b3,W4,b4,W5,b5) \n",
      "    \n",
      "    return(theta, phi)\n",
      "    \n",
      "    "
     ],
     "language": "python",
     "metadata": {},
     "outputs": [],
     "prompt_number": 32
    },
    {
     "cell_type": "code",
     "collapsed": false,
     "input": [
      "def computeGrad(X, theta, phi, L, N, dimZ)"
     ],
     "language": "python",
     "metadata": {},
     "outputs": []
    },
    {
     "cell_type": "code",
     "collapsed": false,
     "input": [
      "def sgd_iter(theta, phi, data, numSamples, batchSize, numIterations, dimZ):\n",
      "    \n",
      "    \n",
      "    N = data.size[0]\n",
      "    for i in range(numIterations): #or until convergence\n",
      "        #initialize gradients\n",
      "        gradPhi = \n",
      "        gradTheta = \n",
      "        #select batch\n",
      "        dataPoint = X[i,:]\n",
      "        for L in range(numSamples):\n",
      "            eta = np.random.normal(0,1,dimZ)\n",
      "            (dPhi, dTheta) = computeGrad(X, theta, phi, eta)\n",
      "            \n",
      "            gradPhi = gradPhi + dPhi\n",
      "            gradTheta = gradTheta + dTheta\n",
      "            \n",
      "        phi = phi + (N/(batchSize*numSamples))*gradPhi\n",
      "        theta = theta + (N/(batchSize*numSamples))*gradTheta\n",
      "        \n",
      "return(phi,theta)\n"
     ],
     "language": "python",
     "metadata": {},
     "outputs": []
    },
    {
     "cell_type": "code",
     "collapsed": false,
     "input": [],
     "language": "python",
     "metadata": {},
     "outputs": []
    }
   ],
   "metadata": {}
  }
 ]
}