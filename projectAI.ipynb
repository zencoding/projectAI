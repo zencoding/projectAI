{
 "metadata": {
  "name": ""
 },
 "nbformat": 3,
 "nbformat_minor": 0,
 "worksheets": [
  {
   "cells": [
    {
     "cell_type": "markdown",
     "metadata": {},
     "source": [
      "###Project AI - auto-encoding variational Bayes\n",
      "\n",
      "* Otto Fabius - 5619858\n",
      "* Joost van Amersfoort - 10021248"
     ]
    },
    {
     "cell_type": "code",
     "collapsed": false,
     "input": [
      "%pylab inline\n",
      "import gzip, cPickle\n",
      "\n",
      "import theano as th\n",
      "import theano.tensor as T\n",
      "\n",
      "import scipy.stats as sp"
     ],
     "language": "python",
     "metadata": {},
     "outputs": [
      {
       "output_type": "stream",
       "stream": "stdout",
       "text": [
        "Populating the interactive namespace from numpy and matplotlib\n"
       ]
      },
      {
       "output_type": "stream",
       "stream": "stderr",
       "text": [
        "WARNING: pylab import has clobbered these variables: ['plot']\n",
        "`%pylab --no-import-all` prevents importing * from pylab and numpy\n"
       ]
      }
     ],
     "prompt_number": 327
    },
    {
     "cell_type": "code",
     "collapsed": false,
     "input": [
      "def load_mnist():\n",
      "\tf = gzip.open('mnist.pkl.gz', 'rb')\n",
      "\tdata = cPickle.load(f)\n",
      "\tf.close()\n",
      "\treturn data\n",
      "\n",
      "(x_train, t_train), (x_valid, t_valid), (x_test, t_test) = load_mnist()"
     ],
     "language": "python",
     "metadata": {},
     "outputs": [],
     "prompt_number": 328
    },
    {
     "cell_type": "code",
     "collapsed": false,
     "input": [
      "def initialize(HU_Decoder, HU_Encoder, dimX, dimZ):\n",
      "    \n",
      "    sigma = 0.01\n",
      "    #initialize theta for decoder (normal distributed)\n",
      "    W1 = np.random.normal(0,sigma,(HU_Decoder,dimZ))\n",
      "    b1 = np.random.normal(0,sigma,(HU_Decoder,1))\n",
      "    \n",
      "    W2 = np.random.normal(0,sigma,(dimX,HU_Decoder))\n",
      "    b2 = np.random.normal(0,sigma,(dimX,1))\n",
      "    \n",
      "    #initialize phi for encoder \n",
      "    W3 = np.random.normal(0,sigma,(HU_Encoder,dimX))\n",
      "    b3 = np.random.normal(0,sigma,(HU_Encoder,1))\n",
      "    \n",
      "    W4 = np.random.normal(0,sigma,(dimZ,HU_Encoder))\n",
      "    b4 = np.random.normal(0,sigma,(dimZ,1))\n",
      "    \n",
      "    W5 = np.random.normal(0,sigma,(dimZ,HU_Encoder))\n",
      "    b5 = np.random.normal(0,sigma,(dimZ,1))\n",
      "        \n",
      "    params = [W1,W2,W3,W4,W5,b1,b2,b3,b4,b5]\n",
      "    \n",
      "    return params"
     ],
     "language": "python",
     "metadata": {},
     "outputs": [],
     "prompt_number": 329
    },
    {
     "cell_type": "code",
     "collapsed": false,
     "input": [
      "def initGrad(dimZ):\n",
      "    #Create the Theano gradients\n",
      "    W1,W2,W3,W4,W5,b1,b2,b3,b4,b5,x = T.dmatrices(\"W1\",\"W2\",\"W3\",\"W4\",\"W5\",\"b1\",\"b2\",\"b3\",\"b4\",\"b5\",\"x\") \n",
      "            \n",
      "    eta = T.dmatrix(\"eta\")\n",
      "    \n",
      "    eta = np.random.normal(0,1,[dimZ,1])\n",
      "    \n",
      "    h = T.tanh(T.dot(W3,x) + b3)\n",
      "    mu = T.dot(W4,h) + b4  \n",
      "    \n",
      "    sigma = T.sqrt(T.exp(T.dot(W5,h) + b5))\n",
      "    \n",
      "    z = mu + sigma*eta\n",
      "\n",
      "    y = 1 / (1 + T.exp(T.dot(W2,T.tanh(T.dot(W1,z) + b1)) + b2))\n",
      "    logp = T.sum(x*T.log(y) - (1-x)*T.log(1 - y))\n",
      "            \n",
      "    derivatives = T.grad(logp,[W1,W2,W3,W4,W5,b1,b2,b3,b4,b5])\n",
      "    \n",
      "    functions = []\n",
      "    for derivative in derivatives:\n",
      "        functions.append(th.function([W1,W2,W3,W4,W5,b1,b2,b3,b4,b5,x], derivative, on_unused_input='ignore'))\n",
      "        \n",
      "    return functions"
     ],
     "language": "python",
     "metadata": {},
     "outputs": [],
     "prompt_number": 330
    },
    {
     "cell_type": "code",
     "collapsed": false,
     "input": [
      "def iterate(params, miniBatch, numSamples, dimZ,N, functions):\n",
      "    totalGradients = [None] * 10\n",
      "    for L in range(numSamples):\n",
      "        gradients = []\n",
      "        \n",
      "        miniBatch = miniBatch[:,None]\n",
      "    \n",
      "        for f in functions:  \n",
      "            output = f(*(params),x=miniBatch)\n",
      "            gradients.append(output)\n",
      "        \n",
      "        for i in xrange(len(gradients)):\n",
      "            if totalGradients[i] == None:\n",
      "                totalGradients[i] = gradients[i]\n",
      "            else:\n",
      "                totalGradients[i] += gradients[i]\n",
      "  \n",
      "            \n",
      "    for i in xrange(len(params)):  \n",
      "        params[i] = params[i] + (N/(len(miniBatch)*numSamples))*totalGradients[i]\n",
      "        \n",
      "    return params"
     ],
     "language": "python",
     "metadata": {},
     "outputs": [],
     "prompt_number": 331
    },
    {
     "cell_type": "code",
     "collapsed": false,
     "input": [
      "def sga():\n",
      "    HU_Decoder = 10\n",
      "    HU_Encoder = 10\n",
      "    \n",
      "    numSamples = 1\n",
      "    dimZ = 2\n",
      "    \n",
      "    print \"Initializing\"\n",
      "    [N,dimX] = x_train.shape\n",
      "        \n",
      "    params = initialize(HU_Decoder, HU_Encoder, dimX, dimZ)\n",
      "    \n",
      "    print \"Creating Functions\"\n",
      "    functions = initGrad(dimZ)\n",
      "        \n",
      "    for i in xrange(1):\n",
      "        print \"iteration: \", i\n",
      "        miniBatch = x_train[i]\n",
      "        params = iterate(params, miniBatch, numSamples, dimZ, N,functions)\n",
      "    \n",
      "    print \"Plotting\"\n",
      "    plot(dimZ,params)\n",
      "    "
     ],
     "language": "python",
     "metadata": {},
     "outputs": [],
     "prompt_number": 332
    },
    {
     "cell_type": "code",
     "collapsed": false,
     "input": [
      "def plot(dimZ, params):\n",
      "    z = np.matrix([sp.invgauss.cdf(0.1,1),sp.invgauss.cdf(0.1,1)]).T\n",
      "     \n",
      "    W1 = params[0]    \n",
      "    W2 = params[1]\n",
      "    \n",
      "    b1 = params[5]\n",
      "    b2 = params[6]\n",
      "    \n",
      "    y = 1 / (1 + np.exp(W2.dot(np.tanh(W1.dot(z) + b1)) + b2))\n",
      "        \n",
      "    plt.imshow(y.reshape((28,28)), interpolation='nearest', cmap='Greys')\n",
      "    plt.show()\n",
      "    "
     ],
     "language": "python",
     "metadata": {},
     "outputs": [],
     "prompt_number": 358
    },
    {
     "cell_type": "code",
     "collapsed": true,
     "input": [
      "sga()"
     ],
     "language": "python",
     "metadata": {},
     "outputs": [
      {
       "output_type": "stream",
       "stream": "stdout",
       "text": [
        "Initializing\n",
        "Creating Functions\n",
        "iteration: "
       ]
      },
      {
       "output_type": "stream",
       "stream": "stdout",
       "text": [
        " 0\n",
        "Plotting\n"
       ]
      },
      {
       "metadata": {},
       "output_type": "display_data",
       "png": "[encoded data removed]",
       "text": [
        "<matplotlib.figure.Figure at 0x114835b90>"
       ]
      }
     ],
     "prompt_number": 359
    },
    {
     "cell_type": "code",
     "collapsed": false,
     "input": [],
     "language": "python",
     "metadata": {},
     "outputs": []
    }
   ],
   "metadata": {}
  }
 ]
}