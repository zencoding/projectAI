{
 "metadata": {
  "name": ""
 },
 "nbformat": 3,
 "nbformat_minor": 0,
 "worksheets": [
  {
   "cells": [
    {
     "cell_type": "markdown",
     "metadata": {},
     "source": [
      "###Project AI - auto-encoding variational Bayes\n",
      "\n",
      "* Otto Fabius - 5619858\n",
      "* Joost van Amersfoort - 10021248"
     ]
    },
    {
     "cell_type": "code",
     "collapsed": false,
     "input": [
      "%pylab inline\n",
      "import gzip, cPickle\n",
      "\n",
      "import theano as th\n",
      "import theano.tensor as T\n",
      "\n",
      "import scipy.stats as sp"
     ],
     "language": "python",
     "metadata": {},
     "outputs": [
      {
       "output_type": "stream",
       "stream": "stdout",
       "text": [
        "Populating the interactive namespace from numpy and matplotlib\n"
       ]
      },
      {
       "output_type": "stream",
       "stream": "stderr",
       "text": [
        "WARNING: pylab import has clobbered these variables: ['plot']\n",
        "`%pylab --no-import-all` prevents importing * from pylab and numpy\n"
       ]
      }
     ],
     "prompt_number": 268
    },
    {
     "cell_type": "code",
     "collapsed": false,
     "input": [
      "def load_mnist():\n",
      "\tf = gzip.open('mnist.pkl.gz', 'rb')\n",
      "\tdata = cPickle.load(f)\n",
      "\tf.close()\n",
      "\treturn data\n",
      "\n",
      "(x_train, t_train), (x_valid, t_valid), (x_test, t_test) = load_mnist()"
     ],
     "language": "python",
     "metadata": {},
     "outputs": [],
     "prompt_number": 269
    },
    {
     "cell_type": "code",
     "collapsed": false,
     "input": [
      "def initialize(HU_Decoder, HU_Encoder, dimX, dimZ):\n",
      "    \n",
      "    sigma = 0.01\n",
      "    #initialize theta for decoder (normal distributed)\n",
      "    W1 = np.random.normal(0,sigma,(HU_Decoder,dimZ))\n",
      "    b1 = np.random.normal(0,sigma,(HU_Decoder,1))\n",
      "    \n",
      "    W2 = np.random.normal(0,sigma,(dimX,HU_Decoder))\n",
      "    b2 = np.random.normal(0,sigma,(dimX,1))\n",
      "    \n",
      "    #initialize phi for encoder \n",
      "    W3 = np.random.normal(0,sigma,(HU_Encoder,dimX))\n",
      "    b3 = np.random.normal(0,sigma,(HU_Encoder,1))\n",
      "    \n",
      "    W4 = np.random.normal(0,sigma,(dimZ,HU_Encoder))\n",
      "    b4 = np.random.normal(0,sigma,(dimZ,1))\n",
      "    \n",
      "    W5 = np.random.normal(0,sigma,(dimZ,HU_Encoder))\n",
      "    b5 = np.random.normal(0,sigma,(dimZ,1))\n",
      "        \n",
      "    params = [W1,W2,W3,W4,W5,b1,b2,b3,b4,b5]\n",
      "    \n",
      "    return params"
     ],
     "language": "python",
     "metadata": {},
     "outputs": [],
     "prompt_number": 270
    },
    {
     "cell_type": "code",
     "collapsed": false,
     "input": [
      "def initGrad(dimZ):\n",
      "    #Create the Theano gradients\n",
      "    W1,W2,W3,W4,W5,b1,b2,b3,b4,b5,x = T.dmatrices(\"W1\",\"W2\",\"W3\",\"W4\",\"W5\",\"b1\",\"b2\",\"b3\",\"b4\",\"b5\",\"x\") \n",
      "            \n",
      "    eta = T.dmatrix(\"eta\")\n",
      "    \n",
      "    eta = np.random.normal(0,1,[dimZ,1])\n",
      "    \n",
      "    h = T.tanh(T.dot(W3,x) + b3)\n",
      "    mu = T.dot(W4,h) + b4  \n",
      "    \n",
      "    sigma = T.sqrt(T.exp(T.dot(W5,h) + b5))\n",
      "    \n",
      "    z = mu + sigma*eta\n",
      "\n",
      "    y = 1 / (1 + T.exp(T.dot(W2,T.tanh(T.dot(W1,z) + b1)) + b2))\n",
      "    logp = T.sum(x*T.log(y) - (1-x)*T.log(1 - y))\n",
      "            \n",
      "    derivatives = T.grad(logp,[W1,W2,W3,W4,W5,b1,b2,b3,b4,b5])\n",
      "    \n",
      "    functions = []\n",
      "    for derivative in derivatives:\n",
      "        functions.append(th.function([W1,W2,W3,W4,W5,b1,b2,b3,b4,b5,x], derivative,mode='DebugMode'))\n",
      "    \n",
      "    #Check one function with normal input\n",
      "    \n",
      "    return functions"
     ],
     "language": "python",
     "metadata": {},
     "outputs": [],
     "prompt_number": 271
    },
    {
     "cell_type": "code",
     "collapsed": false,
     "input": [
      "def iterate(params, miniBatch, numSamples, dimZ,N, functions):\n",
      "    for L in range(numSamples):\n",
      "        gradients = []\n",
      "    \n",
      "        for f in functions:  \n",
      "            miniBatch = miniBatch[:,None]\n",
      "            output = f(*(params),x=miniBatch)\n",
      "            gradients.append(output)\n",
      "        \n",
      "        for i in xrange(len(gradients)):\n",
      "            if totalGradients[i]:\n",
      "                totalGradients[i] += gradients[i]\n",
      "            else:\n",
      "                totalGradients[i] = gradients[i]    \n",
      "            \n",
      "    for i in xrange(len(params)):  \n",
      "        params[i] = params[i] + (N/(batchSize*numSamples))*totalGradients[i]\n",
      "        \n",
      "    return params"
     ],
     "language": "python",
     "metadata": {},
     "outputs": [],
     "prompt_number": 272
    },
    {
     "cell_type": "code",
     "collapsed": false,
     "input": [
      "def sga():\n",
      "    HU_Decoder = 10\n",
      "    HU_Encoder = 10\n",
      "    \n",
      "    numSamples = 1\n",
      "    dimZ = 2\n",
      "    \n",
      "    print \"Initializing\"\n",
      "    [N,dimX] = x_train.shape\n",
      "        \n",
      "    params = initialize(HU_Decoder, HU_Encoder, dimX, dimZ)\n",
      "    \n",
      "    print \"Creating Functions\"\n",
      "    functions = initGrad(dimZ)\n",
      "        \n",
      "    for i in xrange(1):\n",
      "        print \"iteration: \", i\n",
      "        miniBatch = x_train[i]\n",
      "        params = iterate(params, miniBatch, numSamples, dimZ, N,functions)\n",
      "    \n",
      "    print \"Plotting\"\n",
      "    plot(dimZ,params)\n",
      "    "
     ],
     "language": "python",
     "metadata": {},
     "outputs": [],
     "prompt_number": 273
    },
    {
     "cell_type": "code",
     "collapsed": false,
     "input": [
      "def plot(dimZ, params):\n",
      "    z = []\n",
      "\n",
      "    for i in xrange(dimZ):\n",
      "        z.append(sp.invgauss.cdf(0.1,1))\n",
      "     \n",
      "    W1 = params[0]    \n",
      "    W2 = params[1]\n",
      "    \n",
      "    b1 = params[5]\n",
      "    b2 = params[6]\n",
      "    \n",
      "    y = np.exp(W2.dot(np.tanh(W1.dot(z) + b1)) + b2)\n",
      "    \n",
      "    plt.imshow(y.reshape((28,28)), interpolation='nearest', cmap='Greys')\n",
      "    plt.show()\n",
      "    "
     ],
     "language": "python",
     "metadata": {},
     "outputs": []
    },
    {
     "cell_type": "code",
     "collapsed": true,
     "input": [
      "sga()"
     ],
     "language": "python",
     "metadata": {},
     "outputs": [
      {
       "output_type": "stream",
       "stream": "stdout",
       "text": [
        "Initializing\n",
        "Creating Functions\n",
        "iteration: "
       ]
      },
      {
       "output_type": "stream",
       "stream": "stdout",
       "text": [
        " 0\n"
       ]
      },
      {
       "ename": "TypeError",
       "evalue": "('Wrong number of dimensions: expected 2, got 3 with shape (784, 1, 1).', 'Container name \"x\"')",
       "output_type": "pyerr",
       "traceback": [
        "\u001b[0;31m---------------------------------------------------------------------------\u001b[0m\n\u001b[0;31mTypeError\u001b[0m                                 Traceback (most recent call last)",
        "\u001b[0;32m<ipython-input-274-0ca0569a651b>\u001b[0m in \u001b[0;36m<module>\u001b[0;34m()\u001b[0m\n\u001b[0;32m----> 1\u001b[0;31m \u001b[0msga\u001b[0m\u001b[0;34m(\u001b[0m\u001b[0;34m)\u001b[0m\u001b[0;34m\u001b[0m\u001b[0m\n\u001b[0m",
        "\u001b[0;32m<ipython-input-273-71e865e8b3ab>\u001b[0m in \u001b[0;36msga\u001b[0;34m()\u001b[0m\n\u001b[1;32m     17\u001b[0m         \u001b[0;32mprint\u001b[0m \u001b[0;34m\"iteration: \"\u001b[0m\u001b[0;34m,\u001b[0m \u001b[0mi\u001b[0m\u001b[0;34m\u001b[0m\u001b[0m\n\u001b[1;32m     18\u001b[0m         \u001b[0mminiBatch\u001b[0m \u001b[0;34m=\u001b[0m \u001b[0mx_train\u001b[0m\u001b[0;34m[\u001b[0m\u001b[0mi\u001b[0m\u001b[0;34m]\u001b[0m\u001b[0;34m\u001b[0m\u001b[0m\n\u001b[0;32m---> 19\u001b[0;31m         \u001b[0mparams\u001b[0m \u001b[0;34m=\u001b[0m \u001b[0miterate\u001b[0m\u001b[0;34m(\u001b[0m\u001b[0mparams\u001b[0m\u001b[0;34m,\u001b[0m \u001b[0mminiBatch\u001b[0m\u001b[0;34m,\u001b[0m \u001b[0mnumSamples\u001b[0m\u001b[0;34m,\u001b[0m \u001b[0mdimZ\u001b[0m\u001b[0;34m,\u001b[0m \u001b[0mN\u001b[0m\u001b[0;34m,\u001b[0m\u001b[0mfunctions\u001b[0m\u001b[0;34m)\u001b[0m\u001b[0;34m\u001b[0m\u001b[0m\n\u001b[0m\u001b[1;32m     20\u001b[0m \u001b[0;34m\u001b[0m\u001b[0m\n\u001b[1;32m     21\u001b[0m     \u001b[0;32mprint\u001b[0m \u001b[0;34m\"Plotting\"\u001b[0m\u001b[0;34m\u001b[0m\u001b[0m\n",
        "\u001b[0;32m<ipython-input-272-fcc4ccec6be9>\u001b[0m in \u001b[0;36miterate\u001b[0;34m(params, miniBatch, numSamples, dimZ, N, functions)\u001b[0m\n\u001b[1;32m      5\u001b[0m         \u001b[0;32mfor\u001b[0m \u001b[0mf\u001b[0m \u001b[0;32min\u001b[0m \u001b[0mfunctions\u001b[0m\u001b[0;34m:\u001b[0m\u001b[0;34m\u001b[0m\u001b[0m\n\u001b[1;32m      6\u001b[0m             \u001b[0mminiBatch\u001b[0m \u001b[0;34m=\u001b[0m \u001b[0mminiBatch\u001b[0m\u001b[0;34m[\u001b[0m\u001b[0;34m:\u001b[0m\u001b[0;34m,\u001b[0m\u001b[0mNone\u001b[0m\u001b[0;34m]\u001b[0m\u001b[0;34m\u001b[0m\u001b[0m\n\u001b[0;32m----> 7\u001b[0;31m             \u001b[0moutput\u001b[0m \u001b[0;34m=\u001b[0m \u001b[0mf\u001b[0m\u001b[0;34m(\u001b[0m\u001b[0;34m*\u001b[0m\u001b[0;34m(\u001b[0m\u001b[0mparams\u001b[0m\u001b[0;34m)\u001b[0m\u001b[0;34m,\u001b[0m\u001b[0mx\u001b[0m\u001b[0;34m=\u001b[0m\u001b[0mminiBatch\u001b[0m\u001b[0;34m)\u001b[0m\u001b[0;34m\u001b[0m\u001b[0m\n\u001b[0m\u001b[1;32m      8\u001b[0m             \u001b[0mgradients\u001b[0m\u001b[0;34m.\u001b[0m\u001b[0mappend\u001b[0m\u001b[0;34m(\u001b[0m\u001b[0moutput\u001b[0m\u001b[0;34m)\u001b[0m\u001b[0;34m\u001b[0m\u001b[0m\n\u001b[1;32m      9\u001b[0m \u001b[0;34m\u001b[0m\u001b[0m\n",
        "\u001b[0;32m/Users/joost/Library/Enthought/Canopy_64bit/User/lib/python2.7/site-packages/theano/compile/function_module.pyc\u001b[0m in \u001b[0;36m__call__\u001b[0;34m(self, *args, **kwargs)\u001b[0m\n\u001b[1;32m    514\u001b[0m         \u001b[0;32mif\u001b[0m \u001b[0mkwargs\u001b[0m\u001b[0;34m:\u001b[0m  \u001b[0;31m# for speed, skip the iteritems for empty kwargs\u001b[0m\u001b[0;34m\u001b[0m\u001b[0m\n\u001b[1;32m    515\u001b[0m             \u001b[0;32mfor\u001b[0m \u001b[0mk\u001b[0m\u001b[0;34m,\u001b[0m \u001b[0marg\u001b[0m \u001b[0;32min\u001b[0m \u001b[0mkwargs\u001b[0m\u001b[0;34m.\u001b[0m\u001b[0miteritems\u001b[0m\u001b[0;34m(\u001b[0m\u001b[0;34m)\u001b[0m\u001b[0;34m:\u001b[0m\u001b[0;34m\u001b[0m\u001b[0m\n\u001b[0;32m--> 516\u001b[0;31m                 \u001b[0mself\u001b[0m\u001b[0;34m[\u001b[0m\u001b[0mk\u001b[0m\u001b[0;34m]\u001b[0m \u001b[0;34m=\u001b[0m \u001b[0marg\u001b[0m\u001b[0;34m\u001b[0m\u001b[0m\n\u001b[0m\u001b[1;32m    517\u001b[0m \u001b[0;34m\u001b[0m\u001b[0m\n\u001b[1;32m    518\u001b[0m         if not self.trust_input and (\n",
        "\u001b[0;32m/Users/joost/Library/Enthought/Canopy_64bit/User/lib/python2.7/site-packages/theano/compile/function_module.pyc\u001b[0m in \u001b[0;36m__setitem__\u001b[0;34m(self, item, value)\u001b[0m\n\u001b[1;32m    450\u001b[0m \u001b[0;34m\u001b[0m\u001b[0m\n\u001b[1;32m    451\u001b[0m     \u001b[0;32mdef\u001b[0m \u001b[0m__setitem__\u001b[0m\u001b[0;34m(\u001b[0m\u001b[0mself\u001b[0m\u001b[0;34m,\u001b[0m \u001b[0mitem\u001b[0m\u001b[0;34m,\u001b[0m \u001b[0mvalue\u001b[0m\u001b[0;34m)\u001b[0m\u001b[0;34m:\u001b[0m\u001b[0;34m\u001b[0m\u001b[0m\n\u001b[0;32m--> 452\u001b[0;31m         \u001b[0mself\u001b[0m\u001b[0;34m.\u001b[0m\u001b[0mvalue\u001b[0m\u001b[0;34m[\u001b[0m\u001b[0mitem\u001b[0m\u001b[0;34m]\u001b[0m \u001b[0;34m=\u001b[0m \u001b[0mvalue\u001b[0m\u001b[0;34m\u001b[0m\u001b[0m\n\u001b[0m\u001b[1;32m    453\u001b[0m \u001b[0;34m\u001b[0m\u001b[0m\n\u001b[1;32m    454\u001b[0m     \u001b[0;32mdef\u001b[0m \u001b[0m__copy__\u001b[0m\u001b[0;34m(\u001b[0m\u001b[0mself\u001b[0m\u001b[0;34m)\u001b[0m\u001b[0;34m:\u001b[0m\u001b[0;34m\u001b[0m\u001b[0m\n",
        "\u001b[0;32m/Users/joost/Library/Enthought/Canopy_64bit/User/lib/python2.7/site-packages/theano/compile/function_module.pyc\u001b[0m in \u001b[0;36m__setitem__\u001b[0;34m(self, item, value)\u001b[0m\n\u001b[1;32m    413\u001b[0m                         \"of the inputs of your function for duplicates.\" % str(item))\n\u001b[1;32m    414\u001b[0m                 \u001b[0;32mif\u001b[0m \u001b[0misinstance\u001b[0m\u001b[0;34m(\u001b[0m\u001b[0ms\u001b[0m\u001b[0;34m,\u001b[0m \u001b[0mgof\u001b[0m\u001b[0;34m.\u001b[0m\u001b[0mContainer\u001b[0m\u001b[0;34m)\u001b[0m\u001b[0;34m:\u001b[0m\u001b[0;34m\u001b[0m\u001b[0m\n\u001b[0;32m--> 415\u001b[0;31m                     \u001b[0ms\u001b[0m\u001b[0;34m.\u001b[0m\u001b[0mvalue\u001b[0m \u001b[0;34m=\u001b[0m \u001b[0mvalue\u001b[0m\u001b[0;34m\u001b[0m\u001b[0m\n\u001b[0m\u001b[1;32m    416\u001b[0m                     \u001b[0ms\u001b[0m\u001b[0;34m.\u001b[0m\u001b[0mprovided\u001b[0m \u001b[0;34m+=\u001b[0m \u001b[0;36m1\u001b[0m\u001b[0;34m\u001b[0m\u001b[0m\n\u001b[1;32m    417\u001b[0m                 \u001b[0;32melse\u001b[0m\u001b[0;34m:\u001b[0m\u001b[0;34m\u001b[0m\u001b[0m\n",
        "\u001b[0;32m/Users/joost/Library/Enthought/Canopy_64bit/User/lib/python2.7/site-packages/theano/gof/link.pyc\u001b[0m in \u001b[0;36m__set__\u001b[0;34m(self, value)\u001b[0m\n\u001b[1;32m    276\u001b[0m                                                            **kwargs)\n\u001b[1;32m    277\u001b[0m             \u001b[0;32melse\u001b[0m\u001b[0;34m:\u001b[0m\u001b[0;34m\u001b[0m\u001b[0m\n\u001b[0;32m--> 278\u001b[0;31m                 \u001b[0mself\u001b[0m\u001b[0;34m.\u001b[0m\u001b[0mstorage\u001b[0m\u001b[0;34m[\u001b[0m\u001b[0;36m0\u001b[0m\u001b[0;34m]\u001b[0m \u001b[0;34m=\u001b[0m \u001b[0mself\u001b[0m\u001b[0;34m.\u001b[0m\u001b[0mtype\u001b[0m\u001b[0;34m.\u001b[0m\u001b[0mfilter\u001b[0m\u001b[0;34m(\u001b[0m\u001b[0mvalue\u001b[0m\u001b[0;34m,\u001b[0m \u001b[0;34m**\u001b[0m\u001b[0mkwargs\u001b[0m\u001b[0;34m)\u001b[0m\u001b[0;34m\u001b[0m\u001b[0m\n\u001b[0m\u001b[1;32m    279\u001b[0m \u001b[0;34m\u001b[0m\u001b[0m\n\u001b[1;32m    280\u001b[0m         \u001b[0;32mexcept\u001b[0m \u001b[0mException\u001b[0m\u001b[0;34m,\u001b[0m \u001b[0me\u001b[0m\u001b[0;34m:\u001b[0m\u001b[0;34m\u001b[0m\u001b[0m\n",
        "\u001b[0;32m/Users/joost/Library/Enthought/Canopy_64bit/User/lib/python2.7/site-packages/theano/tensor/type.pyc\u001b[0m in \u001b[0;36mfilter\u001b[0;34m(self, data, strict, allow_downcast)\u001b[0m\n\u001b[1;32m    155\u001b[0m             raise TypeError(\"Wrong number of dimensions: expected %s,\"\n\u001b[1;32m    156\u001b[0m                             \" got %s with shape %s.\" % (self.ndim, data.ndim,\n\u001b[0;32m--> 157\u001b[0;31m                                                         data.shape))\n\u001b[0m\u001b[1;32m    158\u001b[0m         \u001b[0;32mif\u001b[0m \u001b[0;32mnot\u001b[0m \u001b[0mdata\u001b[0m\u001b[0;34m.\u001b[0m\u001b[0mflags\u001b[0m\u001b[0;34m.\u001b[0m\u001b[0maligned\u001b[0m\u001b[0;34m:\u001b[0m\u001b[0;34m\u001b[0m\u001b[0m\n\u001b[1;32m    159\u001b[0m             \u001b[0;32mtry\u001b[0m\u001b[0;34m:\u001b[0m\u001b[0;34m\u001b[0m\u001b[0m\n",
        "\u001b[0;31mTypeError\u001b[0m: ('Wrong number of dimensions: expected 2, got 3 with shape (784, 1, 1).', 'Container name \"x\"')"
       ]
      },
      {
       "output_type": "stream",
       "stream": "stderr",
       "text": [
        "WARNING: ('Stride mismatch', ((1, 2), (1, 2), (8, 8), (16, 8), 'InplaceDimShuffle{1,0}'))\n",
        "WARNING: ('Stride mismatch', ((1, 2), (1, 2), (8, 8), (16, 8), 'DimShuffle{1,0}'))\n"
       ]
      }
     ],
     "prompt_number": 274
    },
    {
     "cell_type": "code",
     "collapsed": false,
     "input": [],
     "language": "python",
     "metadata": {},
     "outputs": []
    }
   ],
   "metadata": {}
  }
 ]
}